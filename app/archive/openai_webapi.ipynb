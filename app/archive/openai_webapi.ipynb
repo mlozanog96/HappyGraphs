{
 "cells": [
  {
   "cell_type": "code",
   "execution_count": 39,
   "metadata": {},
   "outputs": [],
   "source": [
    "#%pip install openai"
   ]
  },
  {
   "cell_type": "code",
   "execution_count": 40,
   "metadata": {},
   "outputs": [],
   "source": [
    "import openai\n",
    "import requests\n",
    "import json"
   ]
  },
  {
   "cell_type": "code",
   "execution_count": 41,
   "metadata": {},
   "outputs": [],
   "source": [
    "keys = {}\n",
    "\n",
    "with open(\"C:/Users/joana/Documents/GitHub/2023SSBIPMHWR/BigData/HappyGraphs/API_Keys\", \"r\") as file:\n",
    "    for line in file:\n",
    "        line = line.strip()\n",
    "        if line:\n",
    "            key, value = line.split(\" = \")\n",
    "            keys[key] = value.strip(\"'\")\n",
    "\n",
    "# Now you can access the values using the key names\n",
    "openai_api_key = keys[\"openai_secret\"]"
   ]
  },
  {
   "cell_type": "code",
   "execution_count": 52,
   "metadata": {},
   "outputs": [],
   "source": [
    "openai.api_key = openai_api_key\n",
    "indicator = 'Life expectancy'\n",
    "df_year_max = 2000\n",
    "df_year_min = 2020\n",
    "countries = 'World' #, Mexico, Germany'\n",
    "trend = '▲' #▼\n",
    "\n",
    "prompt_reason_trend1 = 'summarize why has '+ indicator + ' changed over the last ' + str(df_year_max - df_year_min) + ' in ' + countries + ' so much, in under 400 tokens. Put the emphasis on the positive change in all countries.'\n",
    "prompt_reason_trend2 = 'summarize why has '+ indicator + ' changed over the last ' + str(df_year_max - df_year_min) + ' in ' + countries + ' so much, in under 400 tokens.'\n",
    "prompt_reason_trend3 = 'Explain why ' + indicator + ' has ' + trend + ' from ' + str(2000) + ' to ' + str(2020) + ' so much for ' + countries + '. Use about 400 tokens per country.'\n",
    "prompt_reason_trend4 = 'You are a scientific researcher. Explain why ' + indicator + ' has changed from ' + str(2000) + ' to ' + str(2020) + ' so much in ' + countries + '. Use about 400 tokens in total.'\n",
    "# prompt_reason_trend5 = 'You are a journalist. Explain why ' + indicator + ' has ' + trend + ' from ' + str(2000) + ' to ' + str(2020) + ' so much. Use about 400 tokens per country.'\n",
    "# prompt_reason_trend6 = 'You are a teacher. Explain why ' + indicator + ' has ' + trend + ' from ' + str(2000) + ' to ' + str(2020) + ' so much. Use about 400 tokens per country.'\n",
    "# prompt_reason_trend7 = 'You are a tv reporter. Explain why ' + indicator + ' has ' + trend + ' from ' + str(2000) + ' to ' + str(2020) + ' so much. Use about 400 tokens per country.'\n",
    "# tested on website because of loop # prompt_reason_trend8 = 'Explain why ' + indicator + ' has ' + trend + ' from ' + str(2000) + ' to ' + str(2020) + ' so much in ' + countries + '. Use under 400 tokens'"
   ]
  },
  {
   "cell_type": "code",
   "execution_count": 62,
   "metadata": {},
   "outputs": [],
   "source": [
    "def ai_assistant(prompt, \n",
    "                 model = 'gpt-3.5-turbo',\n",
    "                 temperature = 0,\n",
    "                 max_tokens = 500):\n",
    "    response = openai.ChatCompletion.create(\n",
    "        model = model,\n",
    "        messages = [{'role':'user','content': prompt}],\n",
    "        temperature = temperature,\n",
    "        max_tokens = max_tokens,\n",
    "    )\n",
    "\n",
    "    content = response['choices'][0]['message']['content']\n",
    "\n",
    "    return content"
   ]
  },
  {
   "cell_type": "code",
   "execution_count": 53,
   "metadata": {},
   "outputs": [
    {
     "name": "stdout",
     "output_type": "stream",
     "text": [
      "prompt4Over the last two decades, life expectancy worldwide has steadily increased, rising from 65.3 years in 2000 to 72.6 in 2020. This massive change can be attributed to a variety of factors, both direct and indirect.\n",
      "\n",
      "One of the most significant factors is advances in healthcare technology. Medical breakthroughs and improved access to medical resources allow for greater prevention and successful treatments for a wide range of health issues. Vaccines, for instance, have saved millions of lives throughout the world, and other medical treatments allow for the successful treatment of many serious illnesses.\n",
      "\n",
      "Likewise, advancements in nutrition, the availability of higher quality foods, and more widespread access to nutritious meals helps to counteract some of the major causes of death, including malnutrition, various infectious diseases, and even chronic illnesses. This also helps to improve the quality of life enjoyed by many worldwide, since better nutrition and health enables individuals to stay active and engaged for longer periods of time.\n",
      "\n",
      "In addition, improved education and awareness of health and other topics has gone a long way in improving life expectancy. People now have a better understanding of the causes and effects of many health issues, and how to best prevent and treat them. Public health campaigns have also helped to drive home the importance of a healthy lifestyle, which helps to counter rising rates in chronic illnesses like heart disease and cancer which have become more prevalent over the last two decades.\n",
      "\n",
      "Finally, improved standards of living in many areas of the world have also helped to drive up life expectancy. Quality infrastructure, increased access to basic services, and better living conditions have a direct impact on individuals’ physical and mental well-being, leading to better overall health and longer lives.\n",
      "\n",
      "Overall, the combination of these factors have had a dramatic impact on life expectancy around the world, helping to extend the lives of millions worldwide. With continued advancements in technology, healthcare, nutrition, education and living conditions, the trend towards longer life expectancy looks set to continue into the future.\n"
     ]
    }
   ],
   "source": [
    "# response_reason_trend1 = openai.Completion.create(engine=\"text-davinci-003\", prompt=prompt_reason_trend1, max_tokens=400)\n",
    "# answer1 = response_reason_trend1.choices[0].text.strip()\n",
    "# print('prompt1' + answer1)\n",
    "\n",
    "# response_reason_trend2 = openai.Completion.create(engine=\"text-davinci-003\", prompt=prompt_reason_trend2, max_tokens=400)\n",
    "# answer2 = response_reason_trend2.choices[0].text.strip()\n",
    "# print('prompt2' + answer2)\n",
    "\n",
    "# response_reason_trend3 = openai.Completion.create(engine=\"text-davinci-003\", prompt=prompt_reason_trend3, max_tokens=400)\n",
    "# answer3 = response_reason_trend3.choices[0].text.strip()\n",
    "# print('prompt3' + answer3)\n",
    "\n",
    "response_reason_trend4 = openai.Completion.create(engine=\"text-davinci-003\", prompt=prompt_reason_trend4, max_tokens=400)\n",
    "answer4 = response_reason_trend4.choices[0].text.strip()\n",
    "print('prompt4' + answer4)\n",
    "\n",
    "# response_reason_trend5 = openai.Completion.create(engine=\"text-davinci-003\", prompt=prompt_reason_trend5, max_tokens=400)\n",
    "# answer5 = response_reason_trend5.choices[0].text.strip()\n",
    "# print('prompt5' + answer5)\n",
    "\n",
    "# response_reason_trend6 = openai.Completion.create(engine=\"text-davinci-003\", prompt=prompt_reason_trend6, max_tokens=400)\n",
    "# answer6 = response_reason_trend6.choices[0].text.strip()\n",
    "# print('prompt6' + answer6)\n",
    "\n",
    "# response_reason_trend7 = openai.Completion.create(engine=\"text-davinci-003\", prompt=prompt_reason_trend7, max_tokens=400)\n",
    "# answer7 = response_reason_trend7.choices[0].text.strip()\n",
    "# print('prompt7' + answer7)"
   ]
  },
  {
   "cell_type": "code",
   "execution_count": 61,
   "metadata": {},
   "outputs": [
    {
     "name": "stdout",
     "output_type": "stream",
     "text": [
      "prompt3Life expectancy, the average number of years a person is expected to live, has significantly increased worldwide from 2000 to 2020. This positive trend can be attributed to various factors that have positively impacted the health and well-being of populations across different countries.\n",
      "\n",
      "In developed countries like the United States, life expectancy has increased due to advancements in medical technology, improved healthcare systems, and better access to healthcare services. These countries have made significant progress in treating and preventing diseases, resulting in reduced mortality rates. Additionally, lifestyle changes, such as improved nutrition, increased physical activity, and reduced smoking rates, have also contributed to longer life expectancies.\n",
      "\n",
      "In European countries like Germany, France, and the United Kingdom, life expectancy has also seen a notable increase. These countries have implemented comprehensive healthcare systems that provide universal access to healthcare services. Additionally, public health initiatives, such as vaccination programs, have effectively reduced the prevalence of infectious diseases, leading to longer life expectancies.\n",
      "\n",
      "In Asian countries like Japan and South Korea, life expectancy has shown remarkable growth. These countries have strong healthcare systems that focus on preventive care and early detection of diseases. Additionally, cultural factors, such as healthy diets and active lifestyles, have played a significant role in increasing life expectancies.\n",
      "\n",
      "In developing countries, life expectancy has also improved, although at a slower pace compared to developed nations. These countries have made progress in reducing infant mortality rates through improved access to healthcare, immunization programs, and better nutrition. Additionally, international efforts and investments in healthcare infrastructure and disease control have positively impacted life expectancies in these regions.\n",
      "\n",
      "However, it is important to note that not all countries have experienced the same level of improvement in life expectancy. Factors such as socioeconomic disparities, political instability, and inadequate healthcare infrastructure can hinder progress in certain regions. Additionally, emerging challenges like the global rise in non-communicable diseases, such as heart disease and diabetes, pose new obstacles to further increasing life expectancies worldwide.\n",
      "\n",
      "In conclusion, the increase in life expectancy from 2000 to 2020 can be attributed to various factors including advancements in medical technology, improved healthcare systems, lifestyle changes, and public health initiatives. While progress has been made globally, it is crucial to continue addressing disparities and challenges to ensure that all populations can benefit from longer and healthier lives.\n"
     ]
    }
   ],
   "source": [
    "# answer_1 = ai_assistant(prompt_reason_trend1)\n",
    "# print('p1:' + answer_1)\n",
    "\n",
    "# answer_2 = ai_assistant(prompt_reason_trend2)\n",
    "# print('p2' + answer_2)\n",
    "\n",
    "answer_3 = ai_assistant(prompt_reason_trend3)\n",
    "print('prompt3' +answer_3)\n",
    "\n",
    "# answer_4 = ai_assistant(prompt_reason_trend4)\n",
    "# print('prompt4' + answer_4)\n",
    "\n",
    "# answer_5 = ai_assistant(prompt_reason_trend5)\n",
    "# print(answer_5)\n",
    "\n",
    "# answer_6 = ai_assistant(prompt_reason_trend6)\n",
    "# print(answer_6)\n",
    "\n",
    "# answer_7 = ai_assistant(prompt_reason_trend7)\n",
    "# print(answer_7)"
   ]
  },
  {
   "cell_type": "code",
   "execution_count": 46,
   "metadata": {},
   "outputs": [],
   "source": [
    "prompt_measure = 'Summarize which measures have been taken, and by whom, to enhance '+ indicator + ' in ' + countries + ' in under 400 tokens' \n",
    "prompt_indicator = 'What is the indicator ' + indicator + ' from the Worldbank Indicators database measuring? Name the measure unit.'\n",
    "prompt_poem = 'Write me a poem on why Graphs, that show bad world bank indicators which decrease and good world bank indicators which increase, in a positiv way make us happy and inspire us to make a positive impact on the world ourselves in under 200 tokens.'\n"
   ]
  },
  {
   "cell_type": "code",
   "execution_count": 47,
   "metadata": {},
   "outputs": [
    {
     "name": "stdout",
     "output_type": "stream",
     "text": [
      "Graphs, a visual tale of our world's plight,\n",
      "Revealing indicators, dark or bright.\n",
      "As bad numbers decrease, hope takes flight,\n",
      "Good ones ascending, filling hearts with delight.\n",
      "\n",
      "These graphs, a mirror of our collective fate,\n",
      "Ignite a fire, urging us not to wait.\n",
      "They whisper of challenges we must abate,\n",
      "Inspiring us to act, to change our state.\n",
      "\n",
      "In their lines and curves, we find motivation,\n",
      "To forge a path towards transformation.\n",
      "With determination, we seek salvation,\n",
      "Guided by graphs, igniting dedication.\n",
      "\n",
      "Let them remind us of our power and worth,\n",
      "To heal the wounds that plague our dear Earth.\n",
      "With every action, we sow seeds of rebirth,\n",
      "For a future where joy and hope have their berth.\n",
      "\n",
      "So let these graphs, in their simple display,\n",
      "Illuminate the choices we make each day.\n",
      "May they spur us to create a world that's okay,\n",
      "Where love, compassion, and progress hold sway.\n"
     ]
    }
   ],
   "source": [
    "answer = ai_assistant(prompt_poem)\n",
    "print(answer)"
   ]
  }
 ],
 "metadata": {
  "kernelspec": {
   "display_name": "Python 3",
   "language": "python",
   "name": "python3"
  },
  "language_info": {
   "codemirror_mode": {
    "name": "ipython",
    "version": 3
   },
   "file_extension": ".py",
   "mimetype": "text/x-python",
   "name": "python",
   "nbconvert_exporter": "python",
   "pygments_lexer": "ipython3",
   "version": "3.10.11"
  },
  "orig_nbformat": 4
 },
 "nbformat": 4,
 "nbformat_minor": 2
}
