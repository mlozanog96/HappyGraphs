{
 "cells": [
  {
   "cell_type": "code",
   "execution_count": 3,
   "metadata": {},
   "outputs": [],
   "source": [
    "#%pip install openai"
   ]
  },
  {
   "cell_type": "code",
   "execution_count": 4,
   "metadata": {},
   "outputs": [],
   "source": [
    "import openai\n",
    "import requests\n",
    "import json"
   ]
  },
  {
   "cell_type": "code",
   "execution_count": 5,
   "metadata": {},
   "outputs": [],
   "source": [
    "keys = {}\n",
    "\n",
    "with open(\"../API_Keys\", \"r\") as file:\n",
    "    for line in file:\n",
    "        line = line.strip()\n",
    "        if line:\n",
    "            key, value = line.split(\" = \")\n",
    "            keys[key] = value.strip(\"'\")\n",
    "\n",
    "# Now you can access the values using the key names\n",
    "openai_api_key = keys[\"openai_secret\"]"
   ]
  },
  {
   "cell_type": "code",
   "execution_count": 6,
   "metadata": {},
   "outputs": [],
   "source": [
    "# Info on the API: https://platform.openai.com/docs/api-reference/making-requests | https://platform.openai.com/account/usage"
   ]
  },
  {
   "cell_type": "code",
   "execution_count": 20,
   "metadata": {},
   "outputs": [],
   "source": [
    "openai.api_key = openai_api_key\n",
    "\n",
    "indicator = 'life expectancy'\n",
    "df_year_max = 2000\n",
    "df_year_min = 2020\n",
    "\n",
    "countries = 'USA, Germany and India' #this should have worldwide as default if possible\n",
    "prompt_measure = 'Summarize which measures have been taken, and by whom, to enhance '+ indicator + ' in ' + countries + ' in under 400 tokens' \n",
    "prompt_reason = 'summarize why has '+ indicator + ' changed over the last ' + str(df_year_max - df_year_min) + ' in ' + countries + ' so much, in under 400 tokens. Put the emphasis on the positive change in all countries.'\n"
   ]
  },
  {
   "cell_type": "code",
   "execution_count": 21,
   "metadata": {},
   "outputs": [
    {
     "name": "stdout",
     "output_type": "stream",
     "text": [
      "Whereas life expectancy in developed countries such as the United States, Germany, and Japan is around 80 years, in developing countries such as India it is only around 65 years. This discrepancy is partly due to the fact that in developed countries access to healthcare is more widespread, while in developing countries poverty and a lack of resources often hinder people’s ability to receive adequate care.\n",
      "\n",
      "Over the past few decades, however, various measures have been taken to increase life expectancy in India. For example, the Indian government has launched several initiatives aimed at improving access to healthcare, including the National Rural Health Mission, which provides healthcare services to rural areas, and the Pradhan Mantri Jan Arogya Yojana, which provides healthcare coverage to all Indian citizens.\n",
      "\n",
      "In addition, the Indian government has invested in programmes to improve sanitation and reduce malnutrition, both of which are key factors in determining life expectancy. Finally, the government has also worked to increase access to education, which helps to improve the overall well-being of citizens.\n",
      "\n",
      "As a result of these initiatives, life expectancy in India has increased significantly in recent years, and is now estimated to be around 70 years.\n"
     ]
    }
   ],
   "source": [
    "response_measure = openai.Completion.create(engine=\"text-davinci-001\", prompt=prompt_measure, max_tokens=400)\n",
    "answer = response_measure.choices[0].text.strip()\n",
    "print(answer)"
   ]
  },
  {
   "cell_type": "code",
   "execution_count": 24,
   "metadata": {},
   "outputs": [
    {
     "name": "stdout",
     "output_type": "stream",
     "text": [
      "There are many reasons that life expectancy has changed over the last 20 years in the USA, Germany, and India. In the USA, there has been a decline in mortality rates for heart disease, cancer, and stroke, thanks to advances in medical technology and treatments. However, there has been an increase in obesity and diabetes, which are leading causes of death. In Germany, the increase in life expectancy is largely due to the fact that the population is aging, and people are living longer lives. In India, the increase in life expectancy is due to a decline in child mortality rates and a growth in the population.\n"
     ]
    }
   ],
   "source": [
    "response_reason = openai.Completion.create(engine=\"text-davinci-001\", prompt=prompt_reason, max_tokens = 400)\n",
    "answer = response_reason.choices[0].text.strip()\n",
    "print(answer)"
   ]
  }
 ],
 "metadata": {
  "kernelspec": {
   "display_name": "Python 3",
   "language": "python",
   "name": "python3"
  },
  "language_info": {
   "codemirror_mode": {
    "name": "ipython",
    "version": 3
   },
   "file_extension": ".py",
   "mimetype": "text/x-python",
   "name": "python",
   "nbconvert_exporter": "python",
   "pygments_lexer": "ipython3",
   "version": "3.10.11"
  },
  "orig_nbformat": 4
 },
 "nbformat": 4,
 "nbformat_minor": 2
}
