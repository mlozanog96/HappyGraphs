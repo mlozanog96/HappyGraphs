{
 "cells": [
  {
   "cell_type": "code",
   "execution_count": 1,
   "metadata": {},
   "outputs": [],
   "source": [
    "#%pip install openai"
   ]
  },
  {
   "cell_type": "code",
   "execution_count": 1,
   "metadata": {},
   "outputs": [],
   "source": [
    "import openai\n",
    "import requests\n",
    "import json"
   ]
  },
  {
   "cell_type": "code",
   "execution_count": 9,
   "metadata": {},
   "outputs": [],
   "source": [
    "keys = {}\n",
    "\n",
    "with open(\"C:/Users/joana/Documents/GitHub/2023SSBIPMHWR/BigData/HappyGraphs/API_Keys\", \"r\") as file:\n",
    "    for line in file:\n",
    "        line = line.strip()\n",
    "        if line:\n",
    "            key, value = line.split(\" = \")\n",
    "            keys[key] = value.strip(\"'\")\n",
    "\n",
    "# Now you can access the values using the key names\n",
    "openai_api_key = keys[\"openai_secret\"]"
   ]
  },
  {
   "cell_type": "code",
   "execution_count": 36,
   "metadata": {},
   "outputs": [],
   "source": [
    "openai.api_key = openai_api_key\n",
    "indicator = 'Life expectancy'\n",
    "df_year_max = 2000\n",
    "df_year_min = 2020\n",
    "countries = 'World' #, Mexico, Germany'\n",
    "trend = '▲' #▼\n",
    "\n",
    "prompt_reason_trend1 = 'summarize why has '+ indicator + ' changed over the last ' + str(df_year_max - df_year_min) + ' in ' + countries + ' so much, in under 400 tokens. Put the emphasis on the positive change in all countries.'\n",
    "prompt_reason_trend2 = 'summarize why has '+ indicator + ' changed over the last ' + str(df_year_max - df_year_min) + ' in ' + countries + ' so much, in under 400 tokens.'\n",
    "prompt_reason_trend3 = 'Explain why ' + indicator + ' has ' + trend + ' from ' + str(2000) + ' to ' + str(2020) + ' so much for ' + countries + '. Use about 400 tokens per country.'\n",
    "prompt_reason_trend4 = 'You are a scientific researcher. Explain why ' + indicator + ' has ' + trend + ' from ' + str(2000) + ' to ' + str(2020) + ' so much in ' + countries + '. Use about 400 tokens per country.'\n",
    "# prompt_reason_trend5 = 'You are a journalist. Explain why ' + indicator + ' has ' + trend + ' from ' + str(2000) + ' to ' + str(2020) + ' so much. Use about 400 tokens per country.'\n",
    "# prompt_reason_trend6 = 'You are a teacher. Explain why ' + indicator + ' has ' + trend + ' from ' + str(2000) + ' to ' + str(2020) + ' so much. Use about 400 tokens per country.'\n",
    "# prompt_reason_trend7 = 'You are a tv reporter. Explain why ' + indicator + ' has ' + trend + ' from ' + str(2000) + ' to ' + str(2020) + ' so much. Use about 400 tokens per country.'\n",
    "prompt_reason_trend8 = 'Explain why ' + indicator + ' has ' + trend + ' from ' + str(2000) + ' to ' + str(2020) + ' so much in ' + countries + '. Use under 400 tokens'"
   ]
  },
  {
   "cell_type": "code",
   "execution_count": 14,
   "metadata": {},
   "outputs": [],
   "source": [
    "def ai_assistant(prompt, \n",
    "                 model = 'gpt-3.5-turbo',\n",
    "                 temperature = 0.5,\n",
    "                 max_tokens = 500):\n",
    "    response = openai.ChatCompletion.create(\n",
    "        model = model,\n",
    "        messages = [{'role':'user','content': prompt}],\n",
    "        temperature = temperature,\n",
    "        max_tokens = max_tokens,\n",
    "    )\n",
    "\n",
    "    content = response['choices'][0]['message']['content']\n",
    "\n",
    "    return content"
   ]
  },
  {
   "cell_type": "code",
   "execution_count": 37,
   "metadata": {},
   "outputs": [
    {
     "name": "stdout",
     "output_type": "stream",
     "text": [
      "prompt8Life expectancy has increased significantly from 2000 to 2020 due to improvements in global healthcare. This includes better nutrition, access to clean drinking water, more effective medical treatments, and increased availability of vaccinations. Additionally, improved public health systems and awareness of healthy lifestyle habits have also led to increased life expectancy. Finally, the successful global response to the HIV/AIDS epidemic in the late 1990s has had a positive impact on life expectancy worldwide.\n"
     ]
    }
   ],
   "source": [
    "# response_reason_trend1 = openai.Completion.create(engine=\"text-davinci-003\", prompt=prompt_reason_trend1, max_tokens=400)\n",
    "# answer1 = response_reason_trend1.choices[0].text.strip()\n",
    "# print('prompt1' + answer1)\n",
    "\n",
    "# response_reason_trend2 = openai.Completion.create(engine=\"text-davinci-003\", prompt=prompt_reason_trend2, max_tokens=400)\n",
    "# answer2 = response_reason_trend2.choices[0].text.strip()\n",
    "# print('prompt2' + answer2)\n",
    "\n",
    "# response_reason_trend3 = openai.Completion.create(engine=\"text-davinci-003\", prompt=prompt_reason_trend3, max_tokens=400)\n",
    "# answer3 = response_reason_trend3.choices[0].text.strip()\n",
    "# print('prompt3' + answer3)\n",
    "\n",
    "# response_reason_trend4 = openai.Completion.create(engine=\"text-davinci-003\", prompt=prompt_reason_trend4, max_tokens=400)\n",
    "# answer4 = response_reason_trend4.choices[0].text.strip()\n",
    "# print('prompt4' + answer4)\n",
    "\n",
    "# response_reason_trend5 = openai.Completion.create(engine=\"text-davinci-003\", prompt=prompt_reason_trend5, max_tokens=400)\n",
    "# answer5 = response_reason_trend5.choices[0].text.strip()\n",
    "# print('prompt5' + answer5)\n",
    "\n",
    "# response_reason_trend6 = openai.Completion.create(engine=\"text-davinci-003\", prompt=prompt_reason_trend6, max_tokens=400)\n",
    "# answer6 = response_reason_trend6.choices[0].text.strip()\n",
    "# print('prompt6' + answer6)\n",
    "\n",
    "# response_reason_trend7 = openai.Completion.create(engine=\"text-davinci-003\", prompt=prompt_reason_trend7, max_tokens=400)\n",
    "# answer7 = response_reason_trend7.choices[0].text.strip()\n",
    "# print('prompt7' + answer7)\n",
    "\n",
    "response_reason_trend8 = openai.Completion.create(engine=\"text-davinci-003\", prompt=prompt_reason_trend8, max_tokens=400)\n",
    "answer8 = response_reason_trend8.choices[0].text.strip()\n",
    "print('prompt8' + answer8)"
   ]
  },
  {
   "cell_type": "code",
   "execution_count": 38,
   "metadata": {},
   "outputs": [
    {
     "name": "stdout",
     "output_type": "stream",
     "text": [
      "prompt8Life expectancy has increased significantly from 2000 to 2020 due to various factors. Firstly, advancements in medical technology and healthcare have played a crucial role. Improved access to healthcare services, better disease prevention, and medical treatments have helped reduce mortality rates and increase life expectancy. Secondly, there has been a greater emphasis on public health initiatives such as vaccination programs, improved sanitation, and education about healthy lifestyles. These efforts have effectively reduced the spread of diseases and improved overall health outcomes. Additionally, there has been a decline in poverty rates globally, leading to better living conditions, nutrition, and overall well-being. Furthermore, advancements in knowledge and understanding of diseases, as well as increased research and development, have resulted in better disease management and treatment options. Lastly, lifestyle changes, such as reduced smoking rates and increased awareness about the importance of exercise and nutrition, have also contributed to the increase in life expectancy. Overall, the combination of improved healthcare, public health initiatives, reduced poverty, medical advancements, and healthier lifestyles has led to the significant increase in life expectancy worldwide from 2000 to 2020.\n"
     ]
    }
   ],
   "source": [
    "# answer_1 = ai_assistant(prompt_reason_trend1)\n",
    "# print('p1:' + answer_1)\n",
    "\n",
    "# answer_2 = ai_assistant(prompt_reason_trend2)\n",
    "# print('p2' + answer_2)\n",
    "\n",
    "# answer_3 = ai_assistant(prompt_reason_trend3)\n",
    "# print('prompt3' +answer_3)\n",
    "\n",
    "# answer_4 = ai_assistant(prompt_reason_trend4)\n",
    "# print('prompt4' + answer_4)\n",
    "\n",
    "# answer_5 = ai_assistant(prompt_reason_trend5)\n",
    "# st.write(answer_5)\n",
    "\n",
    "# answer_6 = ai_assistant(prompt_reason_trend6)\n",
    "# st.write(answer_6)\n",
    "\n",
    "# answer_7 = ai_assistant(prompt_reason_trend7)\n",
    "# st.write(answer_7)\n",
    "\n",
    "\n",
    "answer_8 = ai_assistant(prompt_reason_trend8)\n",
    "print('prompt8' + answer_8)"
   ]
  },
  {
   "cell_type": "code",
   "execution_count": 4,
   "metadata": {},
   "outputs": [],
   "source": [
    "# Info on the API: https://platform.openai.com/docs/api-reference/making-requests | https://platform.openai.com/account/usage"
   ]
  },
  {
   "cell_type": "code",
   "execution_count": 5,
   "metadata": {},
   "outputs": [],
   "source": [
    "openai.api_key = openai_api_key\n",
    "\n",
    "indicator = 'Life expectancy'\n",
    "df_year_max = 2000\n",
    "df_year_min = 2020\n",
    "\n",
    "countries = 'World, Mexico, Germany' #this should have worldwide as default if possible\n",
    "prompt_measure = 'Summarize which measures have been taken, and by whom, to enhance '+ indicator + ' in ' + countries + ' in under 400 tokens' \n",
    "prompt_reason = 'summarize why has '+ indicator + ' changed over the last ' + str(df_year_max - df_year_min) + ' in ' + countries + ' so much, in under 400 tokens. Put the emphasis on the positive change in all countries.'\n",
    "prompt_indicator = 'What is the indicator ' + indicator + ' from the Worldbank Indicators database measuring? Name the measure unit.'"
   ]
  },
  {
   "cell_type": "code",
   "execution_count": 20,
   "metadata": {},
   "outputs": [
    {
     "name": "stdout",
     "output_type": "stream",
     "text": [
      "Military expenditure from the Worldbank Indicators database measures the military expenditure as a percentage of the GDP of a country.\n"
     ]
    }
   ],
   "source": [
    "response_indicator = openai.Completion.create(engine=\"text-davinci-003\", prompt=prompt_indicator, max_tokens=400)\n",
    "answer = response_indicator.choices[0].text.strip()\n",
    "print(answer)"
   ]
  },
  {
   "cell_type": "code",
   "execution_count": 21,
   "metadata": {},
   "outputs": [
    {
     "name": "stdout",
     "output_type": "stream",
     "text": [
      "Whereas life expectancy in developed countries such as the United States, Germany, and Japan is around 80 years, in developing countries such as India it is only around 65 years. This discrepancy is partly due to the fact that in developed countries access to healthcare is more widespread, while in developing countries poverty and a lack of resources often hinder people’s ability to receive adequate care.\n",
      "\n",
      "Over the past few decades, however, various measures have been taken to increase life expectancy in India. For example, the Indian government has launched several initiatives aimed at improving access to healthcare, including the National Rural Health Mission, which provides healthcare services to rural areas, and the Pradhan Mantri Jan Arogya Yojana, which provides healthcare coverage to all Indian citizens.\n",
      "\n",
      "In addition, the Indian government has invested in programmes to improve sanitation and reduce malnutrition, both of which are key factors in determining life expectancy. Finally, the government has also worked to increase access to education, which helps to improve the overall well-being of citizens.\n",
      "\n",
      "As a result of these initiatives, life expectancy in India has increased significantly in recent years, and is now estimated to be around 70 years.\n"
     ]
    }
   ],
   "source": [
    "response_measure = openai.Completion.create(engine=\"text-davinci-003\", prompt=prompt_measure, max_tokens=400)\n",
    "answer = response_measure.choices[0].text.strip()\n",
    "print(answer)"
   ]
  },
  {
   "cell_type": "code",
   "execution_count": 24,
   "metadata": {},
   "outputs": [
    {
     "name": "stdout",
     "output_type": "stream",
     "text": [
      "There are many reasons that life expectancy has changed over the last 20 years in the USA, Germany, and India. In the USA, there has been a decline in mortality rates for heart disease, cancer, and stroke, thanks to advances in medical technology and treatments. However, there has been an increase in obesity and diabetes, which are leading causes of death. In Germany, the increase in life expectancy is largely due to the fact that the population is aging, and people are living longer lives. In India, the increase in life expectancy is due to a decline in child mortality rates and a growth in the population.\n"
     ]
    }
   ],
   "source": [
    "response_reason = openai.Completion.create(engine=\"text-davinci-001\", prompt=prompt_reason, max_tokens = 400)\n",
    "answer = response_reason.choices[0].text.strip()\n",
    "print(answer)"
   ]
  },
  {
   "cell_type": "markdown",
   "metadata": {},
   "source": [
    "## GPT 3.5 turbo"
   ]
  },
  {
   "cell_type": "code",
   "execution_count": null,
   "metadata": {},
   "outputs": [],
   "source": [
    "model = "
   ]
  },
  {
   "cell_type": "code",
   "execution_count": 13,
   "metadata": {},
   "outputs": [],
   "source": [
    "def ai_assistant(prompt, \n",
    "                 model = 'gpt-3.5-turbo',\n",
    "                 temperature = 0.5,\n",
    "                 max_tokens = 500):\n",
    "    response = openai.ChatCompletion.create(\n",
    "        model = model,\n",
    "        messages = [{'role':'user','content': prompt}],\n",
    "        temperature = temperature,\n",
    "        max_tokens = max_tokens,\n",
    "    )\n",
    "\n",
    "    content = response['choices'][0]['message']['content']\n",
    "\n",
    "    return content"
   ]
  },
  {
   "cell_type": "code",
   "execution_count": 18,
   "metadata": {},
   "outputs": [
    {
     "name": "stdout",
     "output_type": "stream",
     "text": [
      "In graphs, a tale of numbers we find,\n",
      "World Bank indicators, intertwined.\n",
      "They show the lows, the highs, the shifting trends,\n",
      "A reflection of our world, where hope transcends.\n",
      "\n",
      "When bad indicators decrease, we sigh,\n",
      "Yet in their decline, a reason to try.\n",
      "For in their depths, we see a chance to rise,\n",
      "To mend the broken, to empathize.\n",
      "\n",
      "And as good indicators start to climb,\n",
      "They ignite a spark, a hope so sublime.\n",
      "A surge of joy, as progress is unveiled,\n",
      "A testament to how our efforts prevailed.\n",
      "\n",
      "These graphs, they speak a language of their own,\n",
      "A call to action, not to be postponed.\n",
      "They fill our hearts with happiness and glee,\n",
      "Inspiring us to make the world agree.\n",
      "\n",
      "To strive for justice, equality, and peace,\n",
      "To make all suffering and injustice cease.\n",
      "For in those graphs, we glimpse a brighter day,\n",
      "Where love and compassion will always hold sway.\n",
      "\n",
      "So let us cherish these graphs, my friend,\n",
      "For they remind us, our impact can transcend.\n",
      "With every positive shift, we're inspired anew,\n",
      "To create a world that's better, for me and you.\n"
     ]
    }
   ],
   "source": [
    "prompt_poem = 'Write me a poem on why Graphs, that show bad world bank indicators which decrease and good world bank indicators which increase, in a positiv way make us happy and inspire us to make a positive impact on the world ourselves in under 200 tokens.'\n",
    "answer = ai_assistant(prompt_poem)\n",
    "print(answer)"
   ]
  }
 ],
 "metadata": {
  "kernelspec": {
   "display_name": "Python 3",
   "language": "python",
   "name": "python3"
  },
  "language_info": {
   "codemirror_mode": {
    "name": "ipython",
    "version": 3
   },
   "file_extension": ".py",
   "mimetype": "text/x-python",
   "name": "python",
   "nbconvert_exporter": "python",
   "pygments_lexer": "ipython3",
   "version": "3.10.11"
  },
  "orig_nbformat": 4
 },
 "nbformat": 4,
 "nbformat_minor": 2
}
