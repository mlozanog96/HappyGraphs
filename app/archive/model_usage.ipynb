{
 "cells": [
  {
   "cell_type": "code",
   "execution_count": 2,
   "metadata": {},
   "outputs": [],
   "source": [
    "import pickle\n",
    "import pandas as pd"
   ]
  },
  {
   "cell_type": "code",
   "execution_count": 3,
   "metadata": {},
   "outputs": [
    {
     "name": "stderr",
     "output_type": "stream",
     "text": [
      "C:\\Users\\joana\\AppData\\Local\\Packages\\PythonSoftwareFoundation.Python.3.10_qbz5n2kfra8p0\\LocalCache\\local-packages\\Python310\\site-packages\\sklearn\\base.py:288: UserWarning: Trying to unpickle estimator DecisionTreeRegressor from version 1.2.2 when using version 1.2.0. This might lead to breaking code or invalid results. Use at your own risk. For more info please refer to:\n",
      "https://scikit-learn.org/stable/model_persistence.html#security-maintainability-limitations\n",
      "  warnings.warn(\n",
      "C:\\Users\\joana\\AppData\\Local\\Packages\\PythonSoftwareFoundation.Python.3.10_qbz5n2kfra8p0\\LocalCache\\local-packages\\Python310\\site-packages\\sklearn\\base.py:288: UserWarning: Trying to unpickle estimator RandomForestRegressor from version 1.2.2 when using version 1.2.0. This might lead to breaking code or invalid results. Use at your own risk. For more info please refer to:\n",
      "https://scikit-learn.org/stable/model_persistence.html#security-maintainability-limitations\n",
      "  warnings.warn(\n"
     ]
    }
   ],
   "source": [
    "# Load the model\n",
    "with open('../pred_lifeexp.pkl', 'rb') as file:\n",
    "    loaded_model = pickle.load(file)"
   ]
  },
  {
   "cell_type": "code",
   "execution_count": 7,
   "metadata": {},
   "outputs": [
    {
     "data": {
      "text/plain": [
       "array([73.21421648])"
      ]
     },
     "execution_count": 7,
     "metadata": {},
     "output_type": "execute_result"
    }
   ],
   "source": [
    "# define what ever indicators we want to input :)\n",
    "# e.g. the following is similiar to india but with an higher gdp so their life exp will rise to 73.2 :)\n",
    "\n",
    "access_to_electricity = 100\n",
    "armed_forces = 3.338855e+06\n",
    "child_immunization = 100 \n",
    "foreign_investm = 1\n",
    "gdp_per_cap = 12000\n",
    "measels_immunitization = 97\n",
    "net_primary_income = 0 \n",
    "perc_overweigth = 10\n",
    "primary_school_completion = 100\n",
    "rural_population = 50\n",
    "trade_in_services = 15\n",
    "\n",
    "data = {\n",
    "    'access_to_electricity': access_to_electricity,\n",
    "    'armed_forces' : armed_forces, \n",
    "    'child_immunization' : child_immunization, \n",
    "    'foreign_investm' : foreign_investm, \n",
    "    'gdp_per_cap' : gdp_per_cap,\n",
    "    'measels_immunitization' : measels_immunitization,\n",
    "    'net_primary_income' : net_primary_income, \n",
    "    'perc_overweigth' : perc_overweigth,\n",
    "    'primary_school_completion' : primary_school_completion,\n",
    "    'rural_population' : rural_population, \n",
    "    'trade_in_services'\t: trade_in_services,\n",
    "}\n",
    "\n",
    "# transform them into a Dataframe\n",
    "df_test = pd.DataFrame(data, index=range(1))\n",
    "\n",
    "# predict with our loaded model\n",
    "df_pred = loaded_model.predict(df_test)\n",
    "\n",
    "# look at prediction \n",
    "df_pred"
   ]
  }
 ],
 "metadata": {
  "kernelspec": {
   "display_name": "Python 3",
   "language": "python",
   "name": "python3"
  },
  "language_info": {
   "codemirror_mode": {
    "name": "ipython",
    "version": 3
   },
   "file_extension": ".py",
   "mimetype": "text/x-python",
   "name": "python",
   "nbconvert_exporter": "python",
   "pygments_lexer": "ipython3",
   "version": "3.10.11"
  },
  "orig_nbformat": 4,
  "vscode": {
   "interpreter": {
    "hash": "a665b5d41d17b532ea9890333293a1b812fa0b73c9c25c950b3cedf1bebd0438"
   }
  }
 },
 "nbformat": 4,
 "nbformat_minor": 2
}
